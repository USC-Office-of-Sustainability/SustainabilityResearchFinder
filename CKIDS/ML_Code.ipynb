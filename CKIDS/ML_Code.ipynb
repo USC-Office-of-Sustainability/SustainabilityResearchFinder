{
  "nbformat": 4,
  "nbformat_minor": 0,
  "metadata": {
    "colab": {
      "provenance": [],
      "collapsed_sections": []
    },
    "kernelspec": {
      "name": "python3",
      "display_name": "Python 3"
    },
    "language_info": {
      "name": "python"
    }
  },
  "cells": [
    {
      "cell_type": "code",
      "execution_count": 1,
      "metadata": {
        "id": "sz6r8guuX0ih"
      },
      "outputs": [],
      "source": [
        "import numpy as np, pandas as pd\n",
        "from sklearn.feature_extraction.text import TfidfVectorizer\n",
        "from sklearn.linear_model import LogisticRegression\n",
        "from sklearn.pipeline import make_pipeline\n",
        "from sklearn.metrics import classification_report, accuracy_score,roc_curve,auc,precision_score,recall_score\n",
        "from sklearn.model_selection import train_test_split\n",
        "from sklearn.multiclass import OneVsRestClassifier\n",
        "from sklearn.feature_extraction.text import CountVectorizer, TfidfVectorizer\n",
        "from sklearn.feature_extraction.text import TfidfTransformer\n",
        "from sklearn.pipeline import Pipeline\n",
        "import nltk\n",
        "from nltk.corpus import stopwords\n",
        "import re"
      ]
    },
    {
      "cell_type": "code",
      "source": [
        "from google.colab import drive\n",
        "drive.mount('/content/drive')"
      ],
      "metadata": {
        "colab": {
          "base_uri": "https://localhost:8080/"
        },
        "id": "tdSK6bIAUCop",
        "outputId": "692fc767-28d7-4295-fe26-838478929419"
      },
      "execution_count": 4,
      "outputs": [
        {
          "output_type": "stream",
          "name": "stdout",
          "text": [
            "Mounted at /content/drive\n"
          ]
        }
      ]
    },
    {
      "cell_type": "code",
      "source": [
        "path_1=\"/content/drive/Shareddrives/ResearchSDGs_CKidsDataFest2022/ML Training and Testing Datasets/TRAINING/re20000SDG1.csv\"\n",
        "path_2=\"/content/drive/Shareddrives/ResearchSDGs_CKidsDataFest2022/ML Training and Testing Datasets/TRAINING/re20000SDG2.csv\"\n",
        "path_3=\"/content/drive/Shareddrives/ResearchSDGs_CKidsDataFest2022/ML Training and Testing Datasets/TRAINING/re20000SDG3.csv\"\n",
        "path_4=\"/content/drive/Shareddrives/ResearchSDGs_CKidsDataFest2022/ML Training and Testing Datasets/TRAINING/re20000SDG4.csv\"\n",
        "path_5=\"/content/drive/Shareddrives/ResearchSDGs_CKidsDataFest2022/ML Training and Testing Datasets/TRAINING/re20000SDG5.csv\"\n",
        "path_6=\"/content/drive/Shareddrives/ResearchSDGs_CKidsDataFest2022/ML Training and Testing Datasets/TRAINING/re20000SDG6.csv\"\n",
        "path_7=\"/content/drive/Shareddrives/ResearchSDGs_CKidsDataFest2022/ML Training and Testing Datasets/TRAINING/re20000SDG7.csv\"\n",
        "path_8=\"/content/drive/Shareddrives/ResearchSDGs_CKidsDataFest2022/ML Training and Testing Datasets/TRAINING/re20000SDG8.csv\"\n",
        "path_9=\"/content/drive/Shareddrives/ResearchSDGs_CKidsDataFest2022/ML Training and Testing Datasets/TRAINING/re20000SDG9.csv\"\n",
        "path_10=\"/content/drive/Shareddrives/ResearchSDGs_CKidsDataFest2022/ML Training and Testing Datasets/TRAINING/re20000SDG10.csv\"\n",
        "path_11=\"/content/drive/Shareddrives/ResearchSDGs_CKidsDataFest2022/ML Training and Testing Datasets/TRAINING/re20000SDG11.csv\"\n",
        "path_12=\"/content/drive/Shareddrives/ResearchSDGs_CKidsDataFest2022/ML Training and Testing Datasets/TRAINING/re20000SDG12.csv\"\n",
        "path_13=\"/content/drive/Shareddrives/ResearchSDGs_CKidsDataFest2022/ML Training and Testing Datasets/TRAINING/re20000SDG13.csv\"\n",
        "path_14=\"/content/drive/Shareddrives/ResearchSDGs_CKidsDataFest2022/ML Training and Testing Datasets/TRAINING/re20000SDG14.csv\"\n",
        "path_15=\"/content/drive/Shareddrives/ResearchSDGs_CKidsDataFest2022/ML Training and Testing Datasets/TRAINING/re20000SDG15.csv\"\n",
        "path_16=\"/content/drive/Shareddrives/ResearchSDGs_CKidsDataFest2022/ML Training and Testing Datasets/TRAINING/re20000SDG16.csv\"\n",
        "\n",
        "df_1=pd.read_csv(path_1)\n",
        "df_2=pd.read_csv(path_2)\n",
        "df_3=pd.read_csv(path_3)\n",
        "df_4=pd.read_csv(path_4)\n",
        "df_5=pd.read_csv(path_5)\n",
        "df_6=pd.read_csv(path_6)\n",
        "df_7=pd.read_csv(path_7)\n",
        "df_8=pd.read_csv(path_8)\n",
        "df_9=pd.read_csv(path_9)\n",
        "df_10=pd.read_csv(path_10)\n",
        "df_11=pd.read_csv(path_11)\n",
        "df_12=pd.read_csv(path_12)\n",
        "df_13=pd.read_csv(path_13)\n",
        "df_14=pd.read_csv(path_14)\n",
        "df_15=pd.read_csv(path_15)\n",
        "df_16=pd.read_csv(path_16)\n",
        "\n",
        "df=pd.concat([df_1,df_2,df_3,df_4,df_5,df_6,df_7,df_8,df_9,df_10,df_11,df_12,df_13,df_14,df_15,df_16])\n",
        "\n",
        "print(df.shape)\n",
        "#dropping nulls\n",
        "df.dropna(inplace=True)\n",
        "print(df.shape)\n",
        "#dropping duplicates\n",
        "data = df.drop_duplicates(subset=[\"Text\"], keep=False)\n",
        "#data=df\n",
        "print(data.shape)\n",
        "\n",
        "nltk.download('stopwords')\n",
        "STOPWORDS = set(stopwords.words('english'))\n",
        "STOPWORDS.add(\"[TITLE]\")\n",
        "STOPWORDS.add(\"[ABSTRACT]\")\n",
        "print(len(STOPWORDS))\n",
        "\n",
        "data = data.reset_index(drop=True)\n",
        "REPLACE_BY_SPACE_RE = re.compile('[/(){}\\[\\]\\|@,;]')\n",
        "BAD_SYMBOLS_RE = re.compile('[^0-9a-z #+_]')\n",
        "STOPWORDS = set(stopwords.words('english'))\n",
        "\n",
        "def clean_text(text):\n",
        "    \"\"\"\n",
        "        text: a string\n",
        "        \n",
        "        return: modified initial string\n",
        "    \"\"\"\n",
        "    text = text.lower() # lowercase text\n",
        "    text = REPLACE_BY_SPACE_RE.sub(' ', text) # replace REPLACE_BY_SPACE_RE symbols by space in text. substitute the matched string in REPLACE_BY_SPACE_RE with space.\n",
        "    text = BAD_SYMBOLS_RE.sub('', text) # remove symbols which are in BAD_SYMBOLS_RE from text. substitute the matched string in BAD_SYMBOLS_RE with nothing. \n",
        "    text = text.replace('x', '')\n",
        "#    text = re.sub(r'\\W+', '', text)\n",
        "    text = ' '.join(word for word in text.split() if word not in STOPWORDS) # remove stopwors from text\n",
        "    return text\n",
        "data['Text'] = data['Text'].apply(clean_text)\n",
        "data['Text'] = data['Text'].str.replace('\\d+', '')\n",
        "\n",
        "X=data[\"Text\"].values\n",
        "Y=data[\"SDG\"].values\n",
        "X_train, X_test, Y_train, Y_test = train_test_split(X,Y, test_size = 0.10, random_state = 10)\n",
        "print(X_train.shape,X_train.shape)\n",
        "print(X_test.shape,Y_test.shape)"
      ],
      "metadata": {
        "colab": {
          "base_uri": "https://localhost:8080/"
        },
        "id": "vOfatOt_YJ5K",
        "outputId": "bee992b9-2135-4ddb-f985-350e0b01c860"
      },
      "execution_count": 10,
      "outputs": [
        {
          "output_type": "stream",
          "name": "stdout",
          "text": [
            "(305980, 2)\n",
            "(305980, 2)\n",
            "(179215, 2)\n",
            "181\n"
          ]
        },
        {
          "output_type": "stream",
          "name": "stderr",
          "text": [
            "[nltk_data] Downloading package stopwords to /root/nltk_data...\n",
            "[nltk_data]   Package stopwords is already up-to-date!\n",
            "/usr/local/lib/python3.7/dist-packages/ipykernel_launcher.py:71: FutureWarning: The default value of regex will change from True to False in a future version.\n"
          ]
        },
        {
          "output_type": "stream",
          "name": "stdout",
          "text": [
            "(161293,) (161293,)\n",
            "(17922,) (17922,)\n"
          ]
        }
      ]
    },
    {
      "cell_type": "code",
      "source": [
        "data.to_csv(\"/content/drive/MyDrive/Colab Notebooks/training.csv\")"
      ],
      "metadata": {
        "id": "1nyENJAA5AXt"
      },
      "execution_count": 31,
      "outputs": []
    },
    {
      "cell_type": "code",
      "source": [
        "nb = Pipeline([('vect', CountVectorizer()),\n",
        "               ('tfidf', TfidfTransformer()),\n",
        "               ('clf', LogisticRegression(multi_class='ovr', solver='sag')),\n",
        "              ])\n",
        "\n",
        "#ovr = OneVsRestClassifier(nb)\n",
        "nb.fit(X_train, Y_train)\n",
        "from sklearn.metrics import classification_report\n",
        "y_pred = nb.predict(X_test)\n",
        "train_pred=nb.predict(X_train)\n",
        "print('Train accuracy %s' % accuracy_score(train_pred, Y_train))\n",
        "print('Test accuracy %s' % accuracy_score(y_pred, Y_test))\n",
        "print(classification_report(Y_test, y_pred))"
      ],
      "metadata": {
        "colab": {
          "base_uri": "https://localhost:8080/"
        },
        "id": "tzbvbQeAYWtF",
        "outputId": "d0d6a445-0d87-4625-dfe6-3e19621d4e12"
      },
      "execution_count": 16,
      "outputs": [
        {
          "output_type": "stream",
          "name": "stdout",
          "text": [
            "Train accuracy 0.8107915408604217\n",
            "Test accuracy 0.7522597924338802\n",
            "              precision    recall  f1-score   support\n",
            "\n",
            "           1       0.72      0.67      0.70      1423\n",
            "           2       0.76      0.79      0.77      1178\n",
            "           3       0.79      0.89      0.84      1801\n",
            "           4       0.66      0.69      0.68       463\n",
            "           5       0.79      0.78      0.78      1215\n",
            "           6       0.78      0.81      0.79      1086\n",
            "           7       0.79      0.89      0.84      1526\n",
            "           8       0.60      0.40      0.48       703\n",
            "           9       0.75      0.73      0.74      1054\n",
            "          10       0.70      0.65      0.67      1179\n",
            "          11       0.72      0.77      0.74      1019\n",
            "          12       0.70      0.58      0.63       732\n",
            "          13       0.72      0.62      0.67       788\n",
            "          14       0.83      0.83      0.83      1400\n",
            "          15       0.77      0.79      0.78      1093\n",
            "          16       0.72      0.76      0.74      1262\n",
            "\n",
            "    accuracy                           0.75     17922\n",
            "   macro avg       0.74      0.73      0.73     17922\n",
            "weighted avg       0.75      0.75      0.75     17922\n",
            "\n"
          ]
        }
      ]
    },
    {
      "cell_type": "code",
      "source": [
        "from sklearn.preprocessing import LabelEncoder\n",
        "le = LabelEncoder()\n",
        "xgb_Y_train = le.fit_transform(Y_train)\n",
        "xgb_Y_test = le.fit_transform(Y_test)"
      ],
      "metadata": {
        "id": "x-d8Y5tNj8Y4"
      },
      "execution_count": 11,
      "outputs": []
    },
    {
      "cell_type": "code",
      "source": [
        "import xgboost as xgboost\n",
        "\n",
        "xgb = Pipeline([('vect', CountVectorizer()),\n",
        "               ('tfidf', TfidfTransformer()),\n",
        "               ('xgboost', xgboost.XGBClassifier()),\n",
        "              ])\n",
        "\n",
        "xgb.fit(X_train, xgb_Y_train)\n",
        "from sklearn.metrics import classification_report\n",
        "y_pred = xgb.predict(X_test)\n",
        "train_pred =xgb.predict(X_train)\n",
        "print('Train accuracy %s' % accuracy_score(train_pred, xgb_Y_train))\n",
        "print('Test accuracy %s' % accuracy_score(y_pred, Y_test))\n",
        "print(classification_report(xgb_Y_test, y_pred))\n"
      ],
      "metadata": {
        "colab": {
          "base_uri": "https://localhost:8080/"
        },
        "id": "UEGNW47bUd9Y",
        "outputId": "80bd8bf0-85fd-41cf-a691-0dd402a22d23"
      },
      "execution_count": 12,
      "outputs": [
        {
          "output_type": "stream",
          "name": "stdout",
          "text": [
            "Train accuracy 0.7605599747044199\n",
            "Test accuracy 0.02259792433880147\n",
            "              precision    recall  f1-score   support\n",
            "\n",
            "           0       0.73      0.70      0.71      1423\n",
            "           1       0.78      0.72      0.75      1178\n",
            "           2       0.78      0.86      0.82      1801\n",
            "           3       0.66      0.72      0.69       463\n",
            "           4       0.74      0.82      0.78      1215\n",
            "           5       0.76      0.85      0.80      1086\n",
            "           6       0.79      0.86      0.83      1526\n",
            "           7       0.65      0.47      0.54       703\n",
            "           8       0.77      0.75      0.76      1054\n",
            "           9       0.72      0.61      0.66      1179\n",
            "          10       0.75      0.76      0.75      1019\n",
            "          11       0.72      0.58      0.65       732\n",
            "          12       0.68      0.74      0.71       788\n",
            "          13       0.84      0.79      0.82      1400\n",
            "          14       0.79      0.78      0.78      1093\n",
            "          15       0.67      0.71      0.69      1262\n",
            "\n",
            "    accuracy                           0.75     17922\n",
            "   macro avg       0.74      0.73      0.73     17922\n",
            "weighted avg       0.75      0.75      0.75     17922\n",
            "\n"
          ]
        }
      ]
    },
    {
      "cell_type": "code",
      "source": [
        "test_data=pd.read_csv(\"/content/drive/Shareddrives/ResearchSDGs_CKidsDataFest2022/ML Training and Testing Datasets/XGBoost Model /testing.csv\")"
      ],
      "metadata": {
        "id": "i7n-bQZYJvvQ"
      },
      "execution_count": 35,
      "outputs": []
    },
    {
      "cell_type": "code",
      "source": [
        "test_data.head()"
      ],
      "metadata": {
        "colab": {
          "base_uri": "https://localhost:8080/",
          "height": 206
        },
        "id": "WXtNMRULLkmZ",
        "outputId": "dfb2474b-26a6-44f3-ef37-f080024f1979"
      },
      "execution_count": null,
      "outputs": [
        {
          "output_type": "execute_result",
          "data": {
            "text/plain": [
              "   Unnamed: 0  SDG                                               Text\n",
              "0           0    1  [TITLE] The true costs of cesarean delivery fo...\n",
              "1           1    1  [TITLE] The Association of Race Ethnicity and ...\n",
              "2           2    1  [TITLE] Psychotic experiences among informal c...\n",
              "3           3    1  [TITLE] The application of GIS in homelessness...\n",
              "4           4    1  [TITLE] To Punish Parent or Palliate Governing..."
            ],
            "text/html": [
              "\n",
              "  <div id=\"df-ec97e40b-b818-4f76-9d8d-9e5e3cd5fc4b\">\n",
              "    <div class=\"colab-df-container\">\n",
              "      <div>\n",
              "<style scoped>\n",
              "    .dataframe tbody tr th:only-of-type {\n",
              "        vertical-align: middle;\n",
              "    }\n",
              "\n",
              "    .dataframe tbody tr th {\n",
              "        vertical-align: top;\n",
              "    }\n",
              "\n",
              "    .dataframe thead th {\n",
              "        text-align: right;\n",
              "    }\n",
              "</style>\n",
              "<table border=\"1\" class=\"dataframe\">\n",
              "  <thead>\n",
              "    <tr style=\"text-align: right;\">\n",
              "      <th></th>\n",
              "      <th>Unnamed: 0</th>\n",
              "      <th>SDG</th>\n",
              "      <th>Text</th>\n",
              "    </tr>\n",
              "  </thead>\n",
              "  <tbody>\n",
              "    <tr>\n",
              "      <th>0</th>\n",
              "      <td>0</td>\n",
              "      <td>1</td>\n",
              "      <td>[TITLE] The true costs of cesarean delivery fo...</td>\n",
              "    </tr>\n",
              "    <tr>\n",
              "      <th>1</th>\n",
              "      <td>1</td>\n",
              "      <td>1</td>\n",
              "      <td>[TITLE] The Association of Race Ethnicity and ...</td>\n",
              "    </tr>\n",
              "    <tr>\n",
              "      <th>2</th>\n",
              "      <td>2</td>\n",
              "      <td>1</td>\n",
              "      <td>[TITLE] Psychotic experiences among informal c...</td>\n",
              "    </tr>\n",
              "    <tr>\n",
              "      <th>3</th>\n",
              "      <td>3</td>\n",
              "      <td>1</td>\n",
              "      <td>[TITLE] The application of GIS in homelessness...</td>\n",
              "    </tr>\n",
              "    <tr>\n",
              "      <th>4</th>\n",
              "      <td>4</td>\n",
              "      <td>1</td>\n",
              "      <td>[TITLE] To Punish Parent or Palliate Governing...</td>\n",
              "    </tr>\n",
              "  </tbody>\n",
              "</table>\n",
              "</div>\n",
              "      <button class=\"colab-df-convert\" onclick=\"convertToInteractive('df-ec97e40b-b818-4f76-9d8d-9e5e3cd5fc4b')\"\n",
              "              title=\"Convert this dataframe to an interactive table.\"\n",
              "              style=\"display:none;\">\n",
              "        \n",
              "  <svg xmlns=\"http://www.w3.org/2000/svg\" height=\"24px\"viewBox=\"0 0 24 24\"\n",
              "       width=\"24px\">\n",
              "    <path d=\"M0 0h24v24H0V0z\" fill=\"none\"/>\n",
              "    <path d=\"M18.56 5.44l.94 2.06.94-2.06 2.06-.94-2.06-.94-.94-2.06-.94 2.06-2.06.94zm-11 1L8.5 8.5l.94-2.06 2.06-.94-2.06-.94L8.5 2.5l-.94 2.06-2.06.94zm10 10l.94 2.06.94-2.06 2.06-.94-2.06-.94-.94-2.06-.94 2.06-2.06.94z\"/><path d=\"M17.41 7.96l-1.37-1.37c-.4-.4-.92-.59-1.43-.59-.52 0-1.04.2-1.43.59L10.3 9.45l-7.72 7.72c-.78.78-.78 2.05 0 2.83L4 21.41c.39.39.9.59 1.41.59.51 0 1.02-.2 1.41-.59l7.78-7.78 2.81-2.81c.8-.78.8-2.07 0-2.86zM5.41 20L4 18.59l7.72-7.72 1.47 1.35L5.41 20z\"/>\n",
              "  </svg>\n",
              "      </button>\n",
              "      \n",
              "  <style>\n",
              "    .colab-df-container {\n",
              "      display:flex;\n",
              "      flex-wrap:wrap;\n",
              "      gap: 12px;\n",
              "    }\n",
              "\n",
              "    .colab-df-convert {\n",
              "      background-color: #E8F0FE;\n",
              "      border: none;\n",
              "      border-radius: 50%;\n",
              "      cursor: pointer;\n",
              "      display: none;\n",
              "      fill: #1967D2;\n",
              "      height: 32px;\n",
              "      padding: 0 0 0 0;\n",
              "      width: 32px;\n",
              "    }\n",
              "\n",
              "    .colab-df-convert:hover {\n",
              "      background-color: #E2EBFA;\n",
              "      box-shadow: 0px 1px 2px rgba(60, 64, 67, 0.3), 0px 1px 3px 1px rgba(60, 64, 67, 0.15);\n",
              "      fill: #174EA6;\n",
              "    }\n",
              "\n",
              "    [theme=dark] .colab-df-convert {\n",
              "      background-color: #3B4455;\n",
              "      fill: #D2E3FC;\n",
              "    }\n",
              "\n",
              "    [theme=dark] .colab-df-convert:hover {\n",
              "      background-color: #434B5C;\n",
              "      box-shadow: 0px 1px 3px 1px rgba(0, 0, 0, 0.15);\n",
              "      filter: drop-shadow(0px 1px 2px rgba(0, 0, 0, 0.3));\n",
              "      fill: #FFFFFF;\n",
              "    }\n",
              "  </style>\n",
              "\n",
              "      <script>\n",
              "        const buttonEl =\n",
              "          document.querySelector('#df-ec97e40b-b818-4f76-9d8d-9e5e3cd5fc4b button.colab-df-convert');\n",
              "        buttonEl.style.display =\n",
              "          google.colab.kernel.accessAllowed ? 'block' : 'none';\n",
              "\n",
              "        async function convertToInteractive(key) {\n",
              "          const element = document.querySelector('#df-ec97e40b-b818-4f76-9d8d-9e5e3cd5fc4b');\n",
              "          const dataTable =\n",
              "            await google.colab.kernel.invokeFunction('convertToInteractive',\n",
              "                                                     [key], {});\n",
              "          if (!dataTable) return;\n",
              "\n",
              "          const docLinkHtml = 'Like what you see? Visit the ' +\n",
              "            '<a target=\"_blank\" href=https://colab.research.google.com/notebooks/data_table.ipynb>data table notebook</a>'\n",
              "            + ' to learn more about interactive tables.';\n",
              "          element.innerHTML = '';\n",
              "          dataTable['output_type'] = 'display_data';\n",
              "          await google.colab.output.renderOutput(dataTable, element);\n",
              "          const docLink = document.createElement('div');\n",
              "          docLink.innerHTML = docLinkHtml;\n",
              "          element.appendChild(docLink);\n",
              "        }\n",
              "      </script>\n",
              "    </div>\n",
              "  </div>\n",
              "  "
            ]
          },
          "metadata": {},
          "execution_count": 17
        }
      ]
    },
    {
      "cell_type": "code",
      "source": [
        "# XGBoost Model on Test Data without removing stopwords\n",
        "x_test=test_data[\"Text\"].values\n",
        "xgb_predictions = xgb.predict(x_test)+ 1\n",
        "Y_true=test_data[\"SDG\"].values\n",
        "print('accuracy %s' % accuracy_score(xgb_predictions, Y_true))"
      ],
      "metadata": {
        "colab": {
          "base_uri": "https://localhost:8080/"
        },
        "id": "Xqx9fVWGkbGp",
        "outputId": "16f8d890-6fe3-4ff7-d1db-db320651f45a"
      },
      "execution_count": 24,
      "outputs": [
        {
          "output_type": "stream",
          "name": "stdout",
          "text": [
            "accuracy 0.5094339622641509\n"
          ]
        }
      ]
    },
    {
      "cell_type": "code",
      "source": [
        "# Logistic Regression Model on Test Data without removing stopwords\n",
        "x_test=test_data[\"Text\"].values\n",
        "predictions=nb.predict(x_test)\n",
        "Y_true=test_data[\"SDG\"].values\n",
        "print('accuracy %s' % accuracy_score(predictions, Y_true))"
      ],
      "metadata": {
        "colab": {
          "base_uri": "https://localhost:8080/"
        },
        "id": "OnKYbMh8Lo6S",
        "outputId": "5b0a1196-db87-4bdf-86d9-dfea3c85b4b2"
      },
      "execution_count": 36,
      "outputs": [
        {
          "output_type": "stream",
          "name": "stdout",
          "text": [
            "accuracy 0.6037735849056604\n"
          ]
        }
      ]
    },
    {
      "cell_type": "code",
      "source": [
        "# remove stopwords in Test data\n",
        "test_data['Text'] = test_data['Text'].apply(clean_text)\n",
        "test_data['Text'] = test_data['Text'].str.replace('\\d+', '')"
      ],
      "metadata": {
        "colab": {
          "base_uri": "https://localhost:8080/"
        },
        "id": "PaBzKMbI382g",
        "outputId": "69d25300-be37-4f3c-f86b-d44eb784121d"
      },
      "execution_count": 26,
      "outputs": [
        {
          "output_type": "stream",
          "name": "stderr",
          "text": [
            "/usr/local/lib/python3.7/dist-packages/ipykernel_launcher.py:3: FutureWarning: The default value of regex will change from True to False in a future version.\n",
            "  This is separate from the ipykernel package so we can avoid doing imports until\n"
          ]
        }
      ]
    },
    {
      "cell_type": "code",
      "source": [
        "# XGBoost Model on Test Data after removing stopwords\n",
        "x_test=test_data[\"Text\"].values\n",
        "xgb_predictions = xgb.predict(x_test)+ 1\n",
        "Y_true=test_data[\"SDG\"].values\n",
        "print('accuracy %s' % accuracy_score(xgb_predictions, Y_true))"
      ],
      "metadata": {
        "colab": {
          "base_uri": "https://localhost:8080/"
        },
        "id": "4rs87per4JRv",
        "outputId": "a3f89e53-bdd6-4298-9f1a-29ee347f2440"
      },
      "execution_count": 27,
      "outputs": [
        {
          "output_type": "stream",
          "name": "stdout",
          "text": [
            "accuracy 0.5408805031446541\n"
          ]
        }
      ]
    },
    {
      "cell_type": "code",
      "source": [
        "# Logistic Regression Model on Test Data after removing stopwords\n",
        "predictions=nb.predict(x_test)\n",
        "print('accuracy %s' % accuracy_score(predictions, Y_true))"
      ],
      "metadata": {
        "colab": {
          "base_uri": "https://localhost:8080/"
        },
        "id": "UicOI7XJ4Jkg",
        "outputId": "342aa200-29c4-4a22-9725-d8680240a4f0"
      },
      "execution_count": 29,
      "outputs": [
        {
          "output_type": "stream",
          "name": "stdout",
          "text": [
            "accuracy 0.5849056603773585\n"
          ]
        }
      ]
    },
    {
      "cell_type": "code",
      "source": [
        "predictions"
      ],
      "metadata": {
        "colab": {
          "base_uri": "https://localhost:8080/"
        },
        "id": "K6MFXe3WMAbn",
        "outputId": "424542be-e2a4-4a71-b2eb-92912145e4c8"
      },
      "execution_count": null,
      "outputs": [
        {
          "output_type": "execute_result",
          "data": {
            "text/plain": [
              "array([ 1,  1,  1,  1,  1,  1,  1, 16,  3,  1,  2, 10,  1,  1,  1,  2,  1,\n",
              "        2,  2,  2,  2,  3,  3,  2,  5,  3,  3,  3, 10,  5, 16, 10, 16,  4,\n",
              "       10,  1, 16,  4,  3, 10,  4,  5,  5, 10,  1,  5,  5,  2,  1,  1,  5,\n",
              "        6,  6,  6,  6,  6,  6,  6,  3,  1, 16,  7, 13, 13,  7,  7,  7, 13,\n",
              "       13,  9, 10,  1, 10,  8, 11,  1,  8,  9,  9, 11,  9,  7,  9,  9,  7,\n",
              "        9,  9,  3, 10, 10,  1, 10,  5, 10, 10, 10, 16,  1,  1,  1, 11, 11,\n",
              "       11, 11, 10,  1, 11, 11, 11,  6, 12, 12,  9, 15, 12,  7,  9, 12,  2,\n",
              "       12, 13, 13,  2, 13, 13, 13, 13, 14, 14, 14, 14, 14, 13, 14, 14, 14,\n",
              "       14, 15, 15, 15, 15, 15,  3, 13, 15, 15, 15, 14, 16, 10, 16, 16, 16,\n",
              "        1,  5, 16, 16, 16, 14])"
            ]
          },
          "metadata": {},
          "execution_count": 24
        }
      ]
    },
    {
      "cell_type": "code",
      "source": [
        "ML_predicted_sdgs=pd.DataFrame(xgb_predictions,columns=[\"XGBoost Predicted SDG\"])"
      ],
      "metadata": {
        "id": "iwb4CqSLOXiP"
      },
      "execution_count": 32,
      "outputs": []
    },
    {
      "cell_type": "code",
      "source": [
        "ML_predicted_sdgs.head()"
      ],
      "metadata": {
        "colab": {
          "base_uri": "https://localhost:8080/",
          "height": 206
        },
        "id": "SqtxpYKZQhhk",
        "outputId": "d1a08203-35fe-4ffd-fe76-453beb71a308"
      },
      "execution_count": 33,
      "outputs": [
        {
          "output_type": "execute_result",
          "data": {
            "text/plain": [
              "   XGBoost Predicted SDG\n",
              "0                      1\n",
              "1                      1\n",
              "2                      1\n",
              "3                      1\n",
              "4                      1"
            ],
            "text/html": [
              "\n",
              "  <div id=\"df-16539c09-e4a4-4854-af1d-15f7acc5f0cc\">\n",
              "    <div class=\"colab-df-container\">\n",
              "      <div>\n",
              "<style scoped>\n",
              "    .dataframe tbody tr th:only-of-type {\n",
              "        vertical-align: middle;\n",
              "    }\n",
              "\n",
              "    .dataframe tbody tr th {\n",
              "        vertical-align: top;\n",
              "    }\n",
              "\n",
              "    .dataframe thead th {\n",
              "        text-align: right;\n",
              "    }\n",
              "</style>\n",
              "<table border=\"1\" class=\"dataframe\">\n",
              "  <thead>\n",
              "    <tr style=\"text-align: right;\">\n",
              "      <th></th>\n",
              "      <th>XGBoost Predicted SDG</th>\n",
              "    </tr>\n",
              "  </thead>\n",
              "  <tbody>\n",
              "    <tr>\n",
              "      <th>0</th>\n",
              "      <td>1</td>\n",
              "    </tr>\n",
              "    <tr>\n",
              "      <th>1</th>\n",
              "      <td>1</td>\n",
              "    </tr>\n",
              "    <tr>\n",
              "      <th>2</th>\n",
              "      <td>1</td>\n",
              "    </tr>\n",
              "    <tr>\n",
              "      <th>3</th>\n",
              "      <td>1</td>\n",
              "    </tr>\n",
              "    <tr>\n",
              "      <th>4</th>\n",
              "      <td>1</td>\n",
              "    </tr>\n",
              "  </tbody>\n",
              "</table>\n",
              "</div>\n",
              "      <button class=\"colab-df-convert\" onclick=\"convertToInteractive('df-16539c09-e4a4-4854-af1d-15f7acc5f0cc')\"\n",
              "              title=\"Convert this dataframe to an interactive table.\"\n",
              "              style=\"display:none;\">\n",
              "        \n",
              "  <svg xmlns=\"http://www.w3.org/2000/svg\" height=\"24px\"viewBox=\"0 0 24 24\"\n",
              "       width=\"24px\">\n",
              "    <path d=\"M0 0h24v24H0V0z\" fill=\"none\"/>\n",
              "    <path d=\"M18.56 5.44l.94 2.06.94-2.06 2.06-.94-2.06-.94-.94-2.06-.94 2.06-2.06.94zm-11 1L8.5 8.5l.94-2.06 2.06-.94-2.06-.94L8.5 2.5l-.94 2.06-2.06.94zm10 10l.94 2.06.94-2.06 2.06-.94-2.06-.94-.94-2.06-.94 2.06-2.06.94z\"/><path d=\"M17.41 7.96l-1.37-1.37c-.4-.4-.92-.59-1.43-.59-.52 0-1.04.2-1.43.59L10.3 9.45l-7.72 7.72c-.78.78-.78 2.05 0 2.83L4 21.41c.39.39.9.59 1.41.59.51 0 1.02-.2 1.41-.59l7.78-7.78 2.81-2.81c.8-.78.8-2.07 0-2.86zM5.41 20L4 18.59l7.72-7.72 1.47 1.35L5.41 20z\"/>\n",
              "  </svg>\n",
              "      </button>\n",
              "      \n",
              "  <style>\n",
              "    .colab-df-container {\n",
              "      display:flex;\n",
              "      flex-wrap:wrap;\n",
              "      gap: 12px;\n",
              "    }\n",
              "\n",
              "    .colab-df-convert {\n",
              "      background-color: #E8F0FE;\n",
              "      border: none;\n",
              "      border-radius: 50%;\n",
              "      cursor: pointer;\n",
              "      display: none;\n",
              "      fill: #1967D2;\n",
              "      height: 32px;\n",
              "      padding: 0 0 0 0;\n",
              "      width: 32px;\n",
              "    }\n",
              "\n",
              "    .colab-df-convert:hover {\n",
              "      background-color: #E2EBFA;\n",
              "      box-shadow: 0px 1px 2px rgba(60, 64, 67, 0.3), 0px 1px 3px 1px rgba(60, 64, 67, 0.15);\n",
              "      fill: #174EA6;\n",
              "    }\n",
              "\n",
              "    [theme=dark] .colab-df-convert {\n",
              "      background-color: #3B4455;\n",
              "      fill: #D2E3FC;\n",
              "    }\n",
              "\n",
              "    [theme=dark] .colab-df-convert:hover {\n",
              "      background-color: #434B5C;\n",
              "      box-shadow: 0px 1px 3px 1px rgba(0, 0, 0, 0.15);\n",
              "      filter: drop-shadow(0px 1px 2px rgba(0, 0, 0, 0.3));\n",
              "      fill: #FFFFFF;\n",
              "    }\n",
              "  </style>\n",
              "\n",
              "      <script>\n",
              "        const buttonEl =\n",
              "          document.querySelector('#df-16539c09-e4a4-4854-af1d-15f7acc5f0cc button.colab-df-convert');\n",
              "        buttonEl.style.display =\n",
              "          google.colab.kernel.accessAllowed ? 'block' : 'none';\n",
              "\n",
              "        async function convertToInteractive(key) {\n",
              "          const element = document.querySelector('#df-16539c09-e4a4-4854-af1d-15f7acc5f0cc');\n",
              "          const dataTable =\n",
              "            await google.colab.kernel.invokeFunction('convertToInteractive',\n",
              "                                                     [key], {});\n",
              "          if (!dataTable) return;\n",
              "\n",
              "          const docLinkHtml = 'Like what you see? Visit the ' +\n",
              "            '<a target=\"_blank\" href=https://colab.research.google.com/notebooks/data_table.ipynb>data table notebook</a>'\n",
              "            + ' to learn more about interactive tables.';\n",
              "          element.innerHTML = '';\n",
              "          dataTable['output_type'] = 'display_data';\n",
              "          await google.colab.output.renderOutput(dataTable, element);\n",
              "          const docLink = document.createElement('div');\n",
              "          docLink.innerHTML = docLinkHtml;\n",
              "          element.appendChild(docLink);\n",
              "        }\n",
              "      </script>\n",
              "    </div>\n",
              "  </div>\n",
              "  "
            ]
          },
          "metadata": {},
          "execution_count": 33
        }
      ]
    },
    {
      "cell_type": "code",
      "source": [
        "ML_predicted_sdgs.to_csv(\"/content/drive/MyDrive/Colab Notebooks/xgb_predictions.csv\")"
      ],
      "metadata": {
        "id": "1aoccb5qQjCM"
      },
      "execution_count": 34,
      "outputs": []
    },
    {
      "cell_type": "code",
      "source": [
        "LR_ML_predicted_sdgs=pd.DataFrame(predictions,columns=[\"LogReg Predicted SDG\"])"
      ],
      "metadata": {
        "id": "MgGFD2z66zoD"
      },
      "execution_count": 37,
      "outputs": []
    },
    {
      "cell_type": "code",
      "source": [
        "LR_ML_predicted_sdgs.to_csv(\"/content/drive/MyDrive/Colab Notebooks/LogReg_predictions.csv\")"
      ],
      "metadata": {
        "id": "gfXhvy1N65VC"
      },
      "execution_count": 38,
      "outputs": []
    }
  ]
}